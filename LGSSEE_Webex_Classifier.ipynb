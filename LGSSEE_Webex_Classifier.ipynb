{
  "nbformat": 4,
  "nbformat_minor": 0,
  "metadata": {
    "colab": {
      "provenance": []
    },
    "kernelspec": {
      "name": "python3",
      "display_name": "Python 3"
    },
    "language_info": {
      "name": "python"
    }
  },
  "cells": [
    {
      "cell_type": "code",
      "source": [
        "import pandas as pd\n",
        "\n",
        "data = pd.read_csv('/content/webex_consolidated.csv')\n",
        "data"
      ],
      "metadata": {
        "colab": {
          "base_uri": "https://localhost:8080/",
          "height": 424
        },
        "id": "lOifrORhguWZ",
        "outputId": "d4a907f2-5f21-42d5-e5d1-dcec602f6967"
      },
      "execution_count": null,
      "outputs": [
        {
          "output_type": "execute_result",
          "data": {
            "text/plain": [
              "                                   Feature Description  Month\n",
              "0    Hosts or cohosts are easily able to identify a...      1\n",
              "1    As a host, you can customize the templates you...      1\n",
              "2    This feature includes the following administra...      1\n",
              "3    As part of our drive to provide you with secur...      1\n",
              "4    Webex remembers your closed captioning selecti...      1\n",
              "..                                                 ...    ...\n",
              "163  Mobile users can now either show or hide their...     12\n",
              "164  The Webex Meetings app for iPhone and iPad is ...     12\n",
              "165  Webinar hosts, cohosts, and panelists can now ...     12\n",
              "166  IT administrators can restrict their company d...     12\n",
              "167  You can now update the site management from Si...     12\n",
              "\n",
              "[168 rows x 2 columns]"
            ],
            "text/html": [
              "\n",
              "  <div id=\"df-b0618cc1-c40d-4706-9e66-a39345ba9abe\">\n",
              "    <div class=\"colab-df-container\">\n",
              "      <div>\n",
              "<style scoped>\n",
              "    .dataframe tbody tr th:only-of-type {\n",
              "        vertical-align: middle;\n",
              "    }\n",
              "\n",
              "    .dataframe tbody tr th {\n",
              "        vertical-align: top;\n",
              "    }\n",
              "\n",
              "    .dataframe thead th {\n",
              "        text-align: right;\n",
              "    }\n",
              "</style>\n",
              "<table border=\"1\" class=\"dataframe\">\n",
              "  <thead>\n",
              "    <tr style=\"text-align: right;\">\n",
              "      <th></th>\n",
              "      <th>Feature Description</th>\n",
              "      <th>Month</th>\n",
              "    </tr>\n",
              "  </thead>\n",
              "  <tbody>\n",
              "    <tr>\n",
              "      <th>0</th>\n",
              "      <td>Hosts or cohosts are easily able to identify a...</td>\n",
              "      <td>1</td>\n",
              "    </tr>\n",
              "    <tr>\n",
              "      <th>1</th>\n",
              "      <td>As a host, you can customize the templates you...</td>\n",
              "      <td>1</td>\n",
              "    </tr>\n",
              "    <tr>\n",
              "      <th>2</th>\n",
              "      <td>This feature includes the following administra...</td>\n",
              "      <td>1</td>\n",
              "    </tr>\n",
              "    <tr>\n",
              "      <th>3</th>\n",
              "      <td>As part of our drive to provide you with secur...</td>\n",
              "      <td>1</td>\n",
              "    </tr>\n",
              "    <tr>\n",
              "      <th>4</th>\n",
              "      <td>Webex remembers your closed captioning selecti...</td>\n",
              "      <td>1</td>\n",
              "    </tr>\n",
              "    <tr>\n",
              "      <th>...</th>\n",
              "      <td>...</td>\n",
              "      <td>...</td>\n",
              "    </tr>\n",
              "    <tr>\n",
              "      <th>163</th>\n",
              "      <td>Mobile users can now either show or hide their...</td>\n",
              "      <td>12</td>\n",
              "    </tr>\n",
              "    <tr>\n",
              "      <th>164</th>\n",
              "      <td>The Webex Meetings app for iPhone and iPad is ...</td>\n",
              "      <td>12</td>\n",
              "    </tr>\n",
              "    <tr>\n",
              "      <th>165</th>\n",
              "      <td>Webinar hosts, cohosts, and panelists can now ...</td>\n",
              "      <td>12</td>\n",
              "    </tr>\n",
              "    <tr>\n",
              "      <th>166</th>\n",
              "      <td>IT administrators can restrict their company d...</td>\n",
              "      <td>12</td>\n",
              "    </tr>\n",
              "    <tr>\n",
              "      <th>167</th>\n",
              "      <td>You can now update the site management from Si...</td>\n",
              "      <td>12</td>\n",
              "    </tr>\n",
              "  </tbody>\n",
              "</table>\n",
              "<p>168 rows × 2 columns</p>\n",
              "</div>\n",
              "      <button class=\"colab-df-convert\" onclick=\"convertToInteractive('df-b0618cc1-c40d-4706-9e66-a39345ba9abe')\"\n",
              "              title=\"Convert this dataframe to an interactive table.\"\n",
              "              style=\"display:none;\">\n",
              "        \n",
              "  <svg xmlns=\"http://www.w3.org/2000/svg\" height=\"24px\"viewBox=\"0 0 24 24\"\n",
              "       width=\"24px\">\n",
              "    <path d=\"M0 0h24v24H0V0z\" fill=\"none\"/>\n",
              "    <path d=\"M18.56 5.44l.94 2.06.94-2.06 2.06-.94-2.06-.94-.94-2.06-.94 2.06-2.06.94zm-11 1L8.5 8.5l.94-2.06 2.06-.94-2.06-.94L8.5 2.5l-.94 2.06-2.06.94zm10 10l.94 2.06.94-2.06 2.06-.94-2.06-.94-.94-2.06-.94 2.06-2.06.94z\"/><path d=\"M17.41 7.96l-1.37-1.37c-.4-.4-.92-.59-1.43-.59-.52 0-1.04.2-1.43.59L10.3 9.45l-7.72 7.72c-.78.78-.78 2.05 0 2.83L4 21.41c.39.39.9.59 1.41.59.51 0 1.02-.2 1.41-.59l7.78-7.78 2.81-2.81c.8-.78.8-2.07 0-2.86zM5.41 20L4 18.59l7.72-7.72 1.47 1.35L5.41 20z\"/>\n",
              "  </svg>\n",
              "      </button>\n",
              "      \n",
              "  <style>\n",
              "    .colab-df-container {\n",
              "      display:flex;\n",
              "      flex-wrap:wrap;\n",
              "      gap: 12px;\n",
              "    }\n",
              "\n",
              "    .colab-df-convert {\n",
              "      background-color: #E8F0FE;\n",
              "      border: none;\n",
              "      border-radius: 50%;\n",
              "      cursor: pointer;\n",
              "      display: none;\n",
              "      fill: #1967D2;\n",
              "      height: 32px;\n",
              "      padding: 0 0 0 0;\n",
              "      width: 32px;\n",
              "    }\n",
              "\n",
              "    .colab-df-convert:hover {\n",
              "      background-color: #E2EBFA;\n",
              "      box-shadow: 0px 1px 2px rgba(60, 64, 67, 0.3), 0px 1px 3px 1px rgba(60, 64, 67, 0.15);\n",
              "      fill: #174EA6;\n",
              "    }\n",
              "\n",
              "    [theme=dark] .colab-df-convert {\n",
              "      background-color: #3B4455;\n",
              "      fill: #D2E3FC;\n",
              "    }\n",
              "\n",
              "    [theme=dark] .colab-df-convert:hover {\n",
              "      background-color: #434B5C;\n",
              "      box-shadow: 0px 1px 3px 1px rgba(0, 0, 0, 0.15);\n",
              "      filter: drop-shadow(0px 1px 2px rgba(0, 0, 0, 0.3));\n",
              "      fill: #FFFFFF;\n",
              "    }\n",
              "  </style>\n",
              "\n",
              "      <script>\n",
              "        const buttonEl =\n",
              "          document.querySelector('#df-b0618cc1-c40d-4706-9e66-a39345ba9abe button.colab-df-convert');\n",
              "        buttonEl.style.display =\n",
              "          google.colab.kernel.accessAllowed ? 'block' : 'none';\n",
              "\n",
              "        async function convertToInteractive(key) {\n",
              "          const element = document.querySelector('#df-b0618cc1-c40d-4706-9e66-a39345ba9abe');\n",
              "          const dataTable =\n",
              "            await google.colab.kernel.invokeFunction('convertToInteractive',\n",
              "                                                     [key], {});\n",
              "          if (!dataTable) return;\n",
              "\n",
              "          const docLinkHtml = 'Like what you see? Visit the ' +\n",
              "            '<a target=\"_blank\" href=https://colab.research.google.com/notebooks/data_table.ipynb>data table notebook</a>'\n",
              "            + ' to learn more about interactive tables.';\n",
              "          element.innerHTML = '';\n",
              "          dataTable['output_type'] = 'display_data';\n",
              "          await google.colab.output.renderOutput(dataTable, element);\n",
              "          const docLink = document.createElement('div');\n",
              "          docLink.innerHTML = docLinkHtml;\n",
              "          element.appendChild(docLink);\n",
              "        }\n",
              "      </script>\n",
              "    </div>\n",
              "  </div>\n",
              "  "
            ]
          },
          "metadata": {},
          "execution_count": 2
        }
      ]
    },
    {
      "cell_type": "code",
      "source": [
        "def label_df(df, month:int):\n",
        "  data = df\n",
        "  data['Label'] = (data['Month'] >= month).astype(int)\n",
        "  return data"
      ],
      "metadata": {
        "id": "H976Kv23hM0Z"
      },
      "execution_count": null,
      "outputs": []
    },
    {
      "cell_type": "markdown",
      "source": [
        "\n",
        "\n",
        "```\n",
        "# This is formatted as code\n",
        "```\n",
        "\n",
        "# Add labels to dataframe"
      ],
      "metadata": {
        "id": "aBUhvFA2hXbe"
      }
    },
    {
      "cell_type": "code",
      "source": [
        "# Using cutoff month to be June (7)\n",
        "# So months < 7 are 'old' -> class 0\n",
        "# And months >= 7 are 'new' -> class 1\n",
        "\n",
        "# this line creates a new column called 'Label'\n",
        "# the value for each row is determined by comparing that row's 'Month' value with 7 (as the cut-off)\n",
        "#print(data.columns.tolist())\n",
        "data['Label'] = (data['Month'] >= 7).astype(int)\n",
        "data"
      ],
      "metadata": {
        "colab": {
          "base_uri": "https://localhost:8080/",
          "height": 424
        },
        "id": "ZVsXJGgYhwxM",
        "outputId": "431ffd96-54b6-4e96-c217-ae44b66ced55"
      },
      "execution_count": null,
      "outputs": [
        {
          "output_type": "execute_result",
          "data": {
            "text/plain": [
              "                                   Feature Description  Month  Label\n",
              "0    Hosts or cohosts are easily able to identify a...      1      0\n",
              "1    As a host, you can customize the templates you...      1      0\n",
              "2    This feature includes the following administra...      1      0\n",
              "3    As part of our drive to provide you with secur...      1      0\n",
              "4    Webex remembers your closed captioning selecti...      1      0\n",
              "..                                                 ...    ...    ...\n",
              "163  Mobile users can now either show or hide their...     12      1\n",
              "164  The Webex Meetings app for iPhone and iPad is ...     12      1\n",
              "165  Webinar hosts, cohosts, and panelists can now ...     12      1\n",
              "166  IT administrators can restrict their company d...     12      1\n",
              "167  You can now update the site management from Si...     12      1\n",
              "\n",
              "[168 rows x 3 columns]"
            ],
            "text/html": [
              "\n",
              "  <div id=\"df-2acf3d2c-35c4-408a-8448-882071008ff7\">\n",
              "    <div class=\"colab-df-container\">\n",
              "      <div>\n",
              "<style scoped>\n",
              "    .dataframe tbody tr th:only-of-type {\n",
              "        vertical-align: middle;\n",
              "    }\n",
              "\n",
              "    .dataframe tbody tr th {\n",
              "        vertical-align: top;\n",
              "    }\n",
              "\n",
              "    .dataframe thead th {\n",
              "        text-align: right;\n",
              "    }\n",
              "</style>\n",
              "<table border=\"1\" class=\"dataframe\">\n",
              "  <thead>\n",
              "    <tr style=\"text-align: right;\">\n",
              "      <th></th>\n",
              "      <th>Feature Description</th>\n",
              "      <th>Month</th>\n",
              "      <th>Label</th>\n",
              "    </tr>\n",
              "  </thead>\n",
              "  <tbody>\n",
              "    <tr>\n",
              "      <th>0</th>\n",
              "      <td>Hosts or cohosts are easily able to identify a...</td>\n",
              "      <td>1</td>\n",
              "      <td>0</td>\n",
              "    </tr>\n",
              "    <tr>\n",
              "      <th>1</th>\n",
              "      <td>As a host, you can customize the templates you...</td>\n",
              "      <td>1</td>\n",
              "      <td>0</td>\n",
              "    </tr>\n",
              "    <tr>\n",
              "      <th>2</th>\n",
              "      <td>This feature includes the following administra...</td>\n",
              "      <td>1</td>\n",
              "      <td>0</td>\n",
              "    </tr>\n",
              "    <tr>\n",
              "      <th>3</th>\n",
              "      <td>As part of our drive to provide you with secur...</td>\n",
              "      <td>1</td>\n",
              "      <td>0</td>\n",
              "    </tr>\n",
              "    <tr>\n",
              "      <th>4</th>\n",
              "      <td>Webex remembers your closed captioning selecti...</td>\n",
              "      <td>1</td>\n",
              "      <td>0</td>\n",
              "    </tr>\n",
              "    <tr>\n",
              "      <th>...</th>\n",
              "      <td>...</td>\n",
              "      <td>...</td>\n",
              "      <td>...</td>\n",
              "    </tr>\n",
              "    <tr>\n",
              "      <th>163</th>\n",
              "      <td>Mobile users can now either show or hide their...</td>\n",
              "      <td>12</td>\n",
              "      <td>1</td>\n",
              "    </tr>\n",
              "    <tr>\n",
              "      <th>164</th>\n",
              "      <td>The Webex Meetings app for iPhone and iPad is ...</td>\n",
              "      <td>12</td>\n",
              "      <td>1</td>\n",
              "    </tr>\n",
              "    <tr>\n",
              "      <th>165</th>\n",
              "      <td>Webinar hosts, cohosts, and panelists can now ...</td>\n",
              "      <td>12</td>\n",
              "      <td>1</td>\n",
              "    </tr>\n",
              "    <tr>\n",
              "      <th>166</th>\n",
              "      <td>IT administrators can restrict their company d...</td>\n",
              "      <td>12</td>\n",
              "      <td>1</td>\n",
              "    </tr>\n",
              "    <tr>\n",
              "      <th>167</th>\n",
              "      <td>You can now update the site management from Si...</td>\n",
              "      <td>12</td>\n",
              "      <td>1</td>\n",
              "    </tr>\n",
              "  </tbody>\n",
              "</table>\n",
              "<p>168 rows × 3 columns</p>\n",
              "</div>\n",
              "      <button class=\"colab-df-convert\" onclick=\"convertToInteractive('df-2acf3d2c-35c4-408a-8448-882071008ff7')\"\n",
              "              title=\"Convert this dataframe to an interactive table.\"\n",
              "              style=\"display:none;\">\n",
              "        \n",
              "  <svg xmlns=\"http://www.w3.org/2000/svg\" height=\"24px\"viewBox=\"0 0 24 24\"\n",
              "       width=\"24px\">\n",
              "    <path d=\"M0 0h24v24H0V0z\" fill=\"none\"/>\n",
              "    <path d=\"M18.56 5.44l.94 2.06.94-2.06 2.06-.94-2.06-.94-.94-2.06-.94 2.06-2.06.94zm-11 1L8.5 8.5l.94-2.06 2.06-.94-2.06-.94L8.5 2.5l-.94 2.06-2.06.94zm10 10l.94 2.06.94-2.06 2.06-.94-2.06-.94-.94-2.06-.94 2.06-2.06.94z\"/><path d=\"M17.41 7.96l-1.37-1.37c-.4-.4-.92-.59-1.43-.59-.52 0-1.04.2-1.43.59L10.3 9.45l-7.72 7.72c-.78.78-.78 2.05 0 2.83L4 21.41c.39.39.9.59 1.41.59.51 0 1.02-.2 1.41-.59l7.78-7.78 2.81-2.81c.8-.78.8-2.07 0-2.86zM5.41 20L4 18.59l7.72-7.72 1.47 1.35L5.41 20z\"/>\n",
              "  </svg>\n",
              "      </button>\n",
              "      \n",
              "  <style>\n",
              "    .colab-df-container {\n",
              "      display:flex;\n",
              "      flex-wrap:wrap;\n",
              "      gap: 12px;\n",
              "    }\n",
              "\n",
              "    .colab-df-convert {\n",
              "      background-color: #E8F0FE;\n",
              "      border: none;\n",
              "      border-radius: 50%;\n",
              "      cursor: pointer;\n",
              "      display: none;\n",
              "      fill: #1967D2;\n",
              "      height: 32px;\n",
              "      padding: 0 0 0 0;\n",
              "      width: 32px;\n",
              "    }\n",
              "\n",
              "    .colab-df-convert:hover {\n",
              "      background-color: #E2EBFA;\n",
              "      box-shadow: 0px 1px 2px rgba(60, 64, 67, 0.3), 0px 1px 3px 1px rgba(60, 64, 67, 0.15);\n",
              "      fill: #174EA6;\n",
              "    }\n",
              "\n",
              "    [theme=dark] .colab-df-convert {\n",
              "      background-color: #3B4455;\n",
              "      fill: #D2E3FC;\n",
              "    }\n",
              "\n",
              "    [theme=dark] .colab-df-convert:hover {\n",
              "      background-color: #434B5C;\n",
              "      box-shadow: 0px 1px 3px 1px rgba(0, 0, 0, 0.15);\n",
              "      filter: drop-shadow(0px 1px 2px rgba(0, 0, 0, 0.3));\n",
              "      fill: #FFFFFF;\n",
              "    }\n",
              "  </style>\n",
              "\n",
              "      <script>\n",
              "        const buttonEl =\n",
              "          document.querySelector('#df-2acf3d2c-35c4-408a-8448-882071008ff7 button.colab-df-convert');\n",
              "        buttonEl.style.display =\n",
              "          google.colab.kernel.accessAllowed ? 'block' : 'none';\n",
              "\n",
              "        async function convertToInteractive(key) {\n",
              "          const element = document.querySelector('#df-2acf3d2c-35c4-408a-8448-882071008ff7');\n",
              "          const dataTable =\n",
              "            await google.colab.kernel.invokeFunction('convertToInteractive',\n",
              "                                                     [key], {});\n",
              "          if (!dataTable) return;\n",
              "\n",
              "          const docLinkHtml = 'Like what you see? Visit the ' +\n",
              "            '<a target=\"_blank\" href=https://colab.research.google.com/notebooks/data_table.ipynb>data table notebook</a>'\n",
              "            + ' to learn more about interactive tables.';\n",
              "          element.innerHTML = '';\n",
              "          dataTable['output_type'] = 'display_data';\n",
              "          await google.colab.output.renderOutput(dataTable, element);\n",
              "          const docLink = document.createElement('div');\n",
              "          docLink.innerHTML = docLinkHtml;\n",
              "          element.appendChild(docLink);\n",
              "        }\n",
              "      </script>\n",
              "    </div>\n",
              "  </div>\n",
              "  "
            ]
          },
          "metadata": {},
          "execution_count": 4
        }
      ]
    },
    {
      "cell_type": "code",
      "source": [
        "old_rows = data[data['Label']==0]\n",
        "old_rows"
      ],
      "metadata": {
        "colab": {
          "base_uri": "https://localhost:8080/",
          "height": 424
        },
        "id": "JyGBoXeOh85H",
        "outputId": "e48f3894-64e4-44de-c69b-a3bf8783effd"
      },
      "execution_count": null,
      "outputs": [
        {
          "output_type": "execute_result",
          "data": {
            "text/plain": [
              "                                  Feature Description  Month  Label\n",
              "0   Hosts or cohosts are easily able to identify a...      1      0\n",
              "1   As a host, you can customize the templates you...      1      0\n",
              "2   This feature includes the following administra...      1      0\n",
              "3   As part of our drive to provide you with secur...      1      0\n",
              "4   Webex remembers your closed captioning selecti...      1      0\n",
              "..                                                ...    ...    ...\n",
              "80  To ensure you have a good support experience w...      6      0\n",
              "81  You can now scale the Share content window to ...      6      0\n",
              "82  Mobile users can now view their network qualit...      6      0\n",
              "83  IT administrators can now enable the embedded ...      6      0\n",
              "84  Participants connecting to a meeting hosted by...      6      0\n",
              "\n",
              "[85 rows x 3 columns]"
            ],
            "text/html": [
              "\n",
              "  <div id=\"df-7e6c766b-33c0-4dd8-a800-f176c772f028\">\n",
              "    <div class=\"colab-df-container\">\n",
              "      <div>\n",
              "<style scoped>\n",
              "    .dataframe tbody tr th:only-of-type {\n",
              "        vertical-align: middle;\n",
              "    }\n",
              "\n",
              "    .dataframe tbody tr th {\n",
              "        vertical-align: top;\n",
              "    }\n",
              "\n",
              "    .dataframe thead th {\n",
              "        text-align: right;\n",
              "    }\n",
              "</style>\n",
              "<table border=\"1\" class=\"dataframe\">\n",
              "  <thead>\n",
              "    <tr style=\"text-align: right;\">\n",
              "      <th></th>\n",
              "      <th>Feature Description</th>\n",
              "      <th>Month</th>\n",
              "      <th>Label</th>\n",
              "    </tr>\n",
              "  </thead>\n",
              "  <tbody>\n",
              "    <tr>\n",
              "      <th>0</th>\n",
              "      <td>Hosts or cohosts are easily able to identify a...</td>\n",
              "      <td>1</td>\n",
              "      <td>0</td>\n",
              "    </tr>\n",
              "    <tr>\n",
              "      <th>1</th>\n",
              "      <td>As a host, you can customize the templates you...</td>\n",
              "      <td>1</td>\n",
              "      <td>0</td>\n",
              "    </tr>\n",
              "    <tr>\n",
              "      <th>2</th>\n",
              "      <td>This feature includes the following administra...</td>\n",
              "      <td>1</td>\n",
              "      <td>0</td>\n",
              "    </tr>\n",
              "    <tr>\n",
              "      <th>3</th>\n",
              "      <td>As part of our drive to provide you with secur...</td>\n",
              "      <td>1</td>\n",
              "      <td>0</td>\n",
              "    </tr>\n",
              "    <tr>\n",
              "      <th>4</th>\n",
              "      <td>Webex remembers your closed captioning selecti...</td>\n",
              "      <td>1</td>\n",
              "      <td>0</td>\n",
              "    </tr>\n",
              "    <tr>\n",
              "      <th>...</th>\n",
              "      <td>...</td>\n",
              "      <td>...</td>\n",
              "      <td>...</td>\n",
              "    </tr>\n",
              "    <tr>\n",
              "      <th>80</th>\n",
              "      <td>To ensure you have a good support experience w...</td>\n",
              "      <td>6</td>\n",
              "      <td>0</td>\n",
              "    </tr>\n",
              "    <tr>\n",
              "      <th>81</th>\n",
              "      <td>You can now scale the Share content window to ...</td>\n",
              "      <td>6</td>\n",
              "      <td>0</td>\n",
              "    </tr>\n",
              "    <tr>\n",
              "      <th>82</th>\n",
              "      <td>Mobile users can now view their network qualit...</td>\n",
              "      <td>6</td>\n",
              "      <td>0</td>\n",
              "    </tr>\n",
              "    <tr>\n",
              "      <th>83</th>\n",
              "      <td>IT administrators can now enable the embedded ...</td>\n",
              "      <td>6</td>\n",
              "      <td>0</td>\n",
              "    </tr>\n",
              "    <tr>\n",
              "      <th>84</th>\n",
              "      <td>Participants connecting to a meeting hosted by...</td>\n",
              "      <td>6</td>\n",
              "      <td>0</td>\n",
              "    </tr>\n",
              "  </tbody>\n",
              "</table>\n",
              "<p>85 rows × 3 columns</p>\n",
              "</div>\n",
              "      <button class=\"colab-df-convert\" onclick=\"convertToInteractive('df-7e6c766b-33c0-4dd8-a800-f176c772f028')\"\n",
              "              title=\"Convert this dataframe to an interactive table.\"\n",
              "              style=\"display:none;\">\n",
              "        \n",
              "  <svg xmlns=\"http://www.w3.org/2000/svg\" height=\"24px\"viewBox=\"0 0 24 24\"\n",
              "       width=\"24px\">\n",
              "    <path d=\"M0 0h24v24H0V0z\" fill=\"none\"/>\n",
              "    <path d=\"M18.56 5.44l.94 2.06.94-2.06 2.06-.94-2.06-.94-.94-2.06-.94 2.06-2.06.94zm-11 1L8.5 8.5l.94-2.06 2.06-.94-2.06-.94L8.5 2.5l-.94 2.06-2.06.94zm10 10l.94 2.06.94-2.06 2.06-.94-2.06-.94-.94-2.06-.94 2.06-2.06.94z\"/><path d=\"M17.41 7.96l-1.37-1.37c-.4-.4-.92-.59-1.43-.59-.52 0-1.04.2-1.43.59L10.3 9.45l-7.72 7.72c-.78.78-.78 2.05 0 2.83L4 21.41c.39.39.9.59 1.41.59.51 0 1.02-.2 1.41-.59l7.78-7.78 2.81-2.81c.8-.78.8-2.07 0-2.86zM5.41 20L4 18.59l7.72-7.72 1.47 1.35L5.41 20z\"/>\n",
              "  </svg>\n",
              "      </button>\n",
              "      \n",
              "  <style>\n",
              "    .colab-df-container {\n",
              "      display:flex;\n",
              "      flex-wrap:wrap;\n",
              "      gap: 12px;\n",
              "    }\n",
              "\n",
              "    .colab-df-convert {\n",
              "      background-color: #E8F0FE;\n",
              "      border: none;\n",
              "      border-radius: 50%;\n",
              "      cursor: pointer;\n",
              "      display: none;\n",
              "      fill: #1967D2;\n",
              "      height: 32px;\n",
              "      padding: 0 0 0 0;\n",
              "      width: 32px;\n",
              "    }\n",
              "\n",
              "    .colab-df-convert:hover {\n",
              "      background-color: #E2EBFA;\n",
              "      box-shadow: 0px 1px 2px rgba(60, 64, 67, 0.3), 0px 1px 3px 1px rgba(60, 64, 67, 0.15);\n",
              "      fill: #174EA6;\n",
              "    }\n",
              "\n",
              "    [theme=dark] .colab-df-convert {\n",
              "      background-color: #3B4455;\n",
              "      fill: #D2E3FC;\n",
              "    }\n",
              "\n",
              "    [theme=dark] .colab-df-convert:hover {\n",
              "      background-color: #434B5C;\n",
              "      box-shadow: 0px 1px 3px 1px rgba(0, 0, 0, 0.15);\n",
              "      filter: drop-shadow(0px 1px 2px rgba(0, 0, 0, 0.3));\n",
              "      fill: #FFFFFF;\n",
              "    }\n",
              "  </style>\n",
              "\n",
              "      <script>\n",
              "        const buttonEl =\n",
              "          document.querySelector('#df-7e6c766b-33c0-4dd8-a800-f176c772f028 button.colab-df-convert');\n",
              "        buttonEl.style.display =\n",
              "          google.colab.kernel.accessAllowed ? 'block' : 'none';\n",
              "\n",
              "        async function convertToInteractive(key) {\n",
              "          const element = document.querySelector('#df-7e6c766b-33c0-4dd8-a800-f176c772f028');\n",
              "          const dataTable =\n",
              "            await google.colab.kernel.invokeFunction('convertToInteractive',\n",
              "                                                     [key], {});\n",
              "          if (!dataTable) return;\n",
              "\n",
              "          const docLinkHtml = 'Like what you see? Visit the ' +\n",
              "            '<a target=\"_blank\" href=https://colab.research.google.com/notebooks/data_table.ipynb>data table notebook</a>'\n",
              "            + ' to learn more about interactive tables.';\n",
              "          element.innerHTML = '';\n",
              "          dataTable['output_type'] = 'display_data';\n",
              "          await google.colab.output.renderOutput(dataTable, element);\n",
              "          const docLink = document.createElement('div');\n",
              "          docLink.innerHTML = docLinkHtml;\n",
              "          element.appendChild(docLink);\n",
              "        }\n",
              "      </script>\n",
              "    </div>\n",
              "  </div>\n",
              "  "
            ]
          },
          "metadata": {},
          "execution_count": 5
        }
      ]
    },
    {
      "cell_type": "code",
      "source": [
        "new_rows = data[data['Label']==1]\n",
        "new_rows"
      ],
      "metadata": {
        "colab": {
          "base_uri": "https://localhost:8080/",
          "height": 424
        },
        "id": "nhpytVxNiCaB",
        "outputId": "200feaa7-5869-44e9-d74e-4713aa1ce4d2"
      },
      "execution_count": null,
      "outputs": [
        {
          "output_type": "execute_result",
          "data": {
            "text/plain": [
              "                                   Feature Description  Month  Label\n",
              "85   Webex Meetings users can view their upcoming m...      7      1\n",
              "86   With Windows 11, Webex Meetings now allows you...      7      1\n",
              "87   Users on on-premises registered video devices ...      7      1\n",
              "88   The host can upload a music file in the schedu...      7      1\n",
              "89   In the desktop app for Meetings and Webinars, ...      7      1\n",
              "..                                                 ...    ...    ...\n",
              "163  Mobile users can now either show or hide their...     12      1\n",
              "164  The Webex Meetings app for iPhone and iPad is ...     12      1\n",
              "165  Webinar hosts, cohosts, and panelists can now ...     12      1\n",
              "166  IT administrators can restrict their company d...     12      1\n",
              "167  You can now update the site management from Si...     12      1\n",
              "\n",
              "[83 rows x 3 columns]"
            ],
            "text/html": [
              "\n",
              "  <div id=\"df-53093a16-50a7-4b71-bf0a-15134101a8a5\">\n",
              "    <div class=\"colab-df-container\">\n",
              "      <div>\n",
              "<style scoped>\n",
              "    .dataframe tbody tr th:only-of-type {\n",
              "        vertical-align: middle;\n",
              "    }\n",
              "\n",
              "    .dataframe tbody tr th {\n",
              "        vertical-align: top;\n",
              "    }\n",
              "\n",
              "    .dataframe thead th {\n",
              "        text-align: right;\n",
              "    }\n",
              "</style>\n",
              "<table border=\"1\" class=\"dataframe\">\n",
              "  <thead>\n",
              "    <tr style=\"text-align: right;\">\n",
              "      <th></th>\n",
              "      <th>Feature Description</th>\n",
              "      <th>Month</th>\n",
              "      <th>Label</th>\n",
              "    </tr>\n",
              "  </thead>\n",
              "  <tbody>\n",
              "    <tr>\n",
              "      <th>85</th>\n",
              "      <td>Webex Meetings users can view their upcoming m...</td>\n",
              "      <td>7</td>\n",
              "      <td>1</td>\n",
              "    </tr>\n",
              "    <tr>\n",
              "      <th>86</th>\n",
              "      <td>With Windows 11, Webex Meetings now allows you...</td>\n",
              "      <td>7</td>\n",
              "      <td>1</td>\n",
              "    </tr>\n",
              "    <tr>\n",
              "      <th>87</th>\n",
              "      <td>Users on on-premises registered video devices ...</td>\n",
              "      <td>7</td>\n",
              "      <td>1</td>\n",
              "    </tr>\n",
              "    <tr>\n",
              "      <th>88</th>\n",
              "      <td>The host can upload a music file in the schedu...</td>\n",
              "      <td>7</td>\n",
              "      <td>1</td>\n",
              "    </tr>\n",
              "    <tr>\n",
              "      <th>89</th>\n",
              "      <td>In the desktop app for Meetings and Webinars, ...</td>\n",
              "      <td>7</td>\n",
              "      <td>1</td>\n",
              "    </tr>\n",
              "    <tr>\n",
              "      <th>...</th>\n",
              "      <td>...</td>\n",
              "      <td>...</td>\n",
              "      <td>...</td>\n",
              "    </tr>\n",
              "    <tr>\n",
              "      <th>163</th>\n",
              "      <td>Mobile users can now either show or hide their...</td>\n",
              "      <td>12</td>\n",
              "      <td>1</td>\n",
              "    </tr>\n",
              "    <tr>\n",
              "      <th>164</th>\n",
              "      <td>The Webex Meetings app for iPhone and iPad is ...</td>\n",
              "      <td>12</td>\n",
              "      <td>1</td>\n",
              "    </tr>\n",
              "    <tr>\n",
              "      <th>165</th>\n",
              "      <td>Webinar hosts, cohosts, and panelists can now ...</td>\n",
              "      <td>12</td>\n",
              "      <td>1</td>\n",
              "    </tr>\n",
              "    <tr>\n",
              "      <th>166</th>\n",
              "      <td>IT administrators can restrict their company d...</td>\n",
              "      <td>12</td>\n",
              "      <td>1</td>\n",
              "    </tr>\n",
              "    <tr>\n",
              "      <th>167</th>\n",
              "      <td>You can now update the site management from Si...</td>\n",
              "      <td>12</td>\n",
              "      <td>1</td>\n",
              "    </tr>\n",
              "  </tbody>\n",
              "</table>\n",
              "<p>83 rows × 3 columns</p>\n",
              "</div>\n",
              "      <button class=\"colab-df-convert\" onclick=\"convertToInteractive('df-53093a16-50a7-4b71-bf0a-15134101a8a5')\"\n",
              "              title=\"Convert this dataframe to an interactive table.\"\n",
              "              style=\"display:none;\">\n",
              "        \n",
              "  <svg xmlns=\"http://www.w3.org/2000/svg\" height=\"24px\"viewBox=\"0 0 24 24\"\n",
              "       width=\"24px\">\n",
              "    <path d=\"M0 0h24v24H0V0z\" fill=\"none\"/>\n",
              "    <path d=\"M18.56 5.44l.94 2.06.94-2.06 2.06-.94-2.06-.94-.94-2.06-.94 2.06-2.06.94zm-11 1L8.5 8.5l.94-2.06 2.06-.94-2.06-.94L8.5 2.5l-.94 2.06-2.06.94zm10 10l.94 2.06.94-2.06 2.06-.94-2.06-.94-.94-2.06-.94 2.06-2.06.94z\"/><path d=\"M17.41 7.96l-1.37-1.37c-.4-.4-.92-.59-1.43-.59-.52 0-1.04.2-1.43.59L10.3 9.45l-7.72 7.72c-.78.78-.78 2.05 0 2.83L4 21.41c.39.39.9.59 1.41.59.51 0 1.02-.2 1.41-.59l7.78-7.78 2.81-2.81c.8-.78.8-2.07 0-2.86zM5.41 20L4 18.59l7.72-7.72 1.47 1.35L5.41 20z\"/>\n",
              "  </svg>\n",
              "      </button>\n",
              "      \n",
              "  <style>\n",
              "    .colab-df-container {\n",
              "      display:flex;\n",
              "      flex-wrap:wrap;\n",
              "      gap: 12px;\n",
              "    }\n",
              "\n",
              "    .colab-df-convert {\n",
              "      background-color: #E8F0FE;\n",
              "      border: none;\n",
              "      border-radius: 50%;\n",
              "      cursor: pointer;\n",
              "      display: none;\n",
              "      fill: #1967D2;\n",
              "      height: 32px;\n",
              "      padding: 0 0 0 0;\n",
              "      width: 32px;\n",
              "    }\n",
              "\n",
              "    .colab-df-convert:hover {\n",
              "      background-color: #E2EBFA;\n",
              "      box-shadow: 0px 1px 2px rgba(60, 64, 67, 0.3), 0px 1px 3px 1px rgba(60, 64, 67, 0.15);\n",
              "      fill: #174EA6;\n",
              "    }\n",
              "\n",
              "    [theme=dark] .colab-df-convert {\n",
              "      background-color: #3B4455;\n",
              "      fill: #D2E3FC;\n",
              "    }\n",
              "\n",
              "    [theme=dark] .colab-df-convert:hover {\n",
              "      background-color: #434B5C;\n",
              "      box-shadow: 0px 1px 3px 1px rgba(0, 0, 0, 0.15);\n",
              "      filter: drop-shadow(0px 1px 2px rgba(0, 0, 0, 0.3));\n",
              "      fill: #FFFFFF;\n",
              "    }\n",
              "  </style>\n",
              "\n",
              "      <script>\n",
              "        const buttonEl =\n",
              "          document.querySelector('#df-53093a16-50a7-4b71-bf0a-15134101a8a5 button.colab-df-convert');\n",
              "        buttonEl.style.display =\n",
              "          google.colab.kernel.accessAllowed ? 'block' : 'none';\n",
              "\n",
              "        async function convertToInteractive(key) {\n",
              "          const element = document.querySelector('#df-53093a16-50a7-4b71-bf0a-15134101a8a5');\n",
              "          const dataTable =\n",
              "            await google.colab.kernel.invokeFunction('convertToInteractive',\n",
              "                                                     [key], {});\n",
              "          if (!dataTable) return;\n",
              "\n",
              "          const docLinkHtml = 'Like what you see? Visit the ' +\n",
              "            '<a target=\"_blank\" href=https://colab.research.google.com/notebooks/data_table.ipynb>data table notebook</a>'\n",
              "            + ' to learn more about interactive tables.';\n",
              "          element.innerHTML = '';\n",
              "          dataTable['output_type'] = 'display_data';\n",
              "          await google.colab.output.renderOutput(dataTable, element);\n",
              "          const docLink = document.createElement('div');\n",
              "          docLink.innerHTML = docLinkHtml;\n",
              "          element.appendChild(docLink);\n",
              "        }\n",
              "      </script>\n",
              "    </div>\n",
              "  </div>\n",
              "  "
            ]
          },
          "metadata": {},
          "execution_count": 6
        }
      ]
    },
    {
      "cell_type": "code",
      "source": [
        "# histogram of count of 0s and count of 1s\n",
        "data['Label'].hist(grid=False, bins=3)"
      ],
      "metadata": {
        "colab": {
          "base_uri": "https://localhost:8080/",
          "height": 282
        },
        "id": "ONz9UOMViE8F",
        "outputId": "24689f73-536a-48d2-deae-68bf2dc7da41"
      },
      "execution_count": null,
      "outputs": [
        {
          "output_type": "execute_result",
          "data": {
            "text/plain": [
              "<AxesSubplot:>"
            ]
          },
          "metadata": {},
          "execution_count": 7
        },
        {
          "output_type": "display_data",
          "data": {
            "text/plain": [
              "<Figure size 432x288 with 1 Axes>"
            ],
            "image/png": "[encoded data removed]"
          },
          "metadata": {
            "needs_background": "light"
          }
        }
      ]
    },
    {
      "cell_type": "markdown",
      "source": [
        "# Use Bag-of_Words to vectorize the text data\n"
      ],
      "metadata": {
        "id": "rCPNfQ_yiOyH"
      }
    },
    {
      "cell_type": "code",
      "source": [
        "# using scikit-learn's CountVectorizer for Bag-of-Words embedding\n",
        "from sklearn.feature_extraction.text import CountVectorizer\n",
        "\n",
        "# initialize the vectorizer object\n",
        "vectorizer = CountVectorizer()\n",
        "\n",
        "# fit our bag-of-words vector from the 'Feature Description' column in the dataframe\n",
        "bag = vectorizer.fit_transform(data['Feature Description'])"
      ],
      "metadata": {
        "id": "2aBGw-YgiIXn"
      },
      "execution_count": null,
      "outputs": []
    },
    {
      "cell_type": "markdown",
      "source": [
        "# Explore the data"
      ],
      "metadata": {
        "id": "D3b0fcqjieFt"
      }
    },
    {
      "cell_type": "code",
      "source": [
        "# Get unique words/tokens found in all the feature descriptions\n",
        "print('Array of unique words: ')\n",
        "print(vectorizer.get_feature_names_out())\n",
        "\n",
        "# Print the numerical text vector after Bag-of-Words embedding\n",
        "print('\\nBag-of-Words embedded text vector: ')\n",
        "print(bag.toarray())\n",
        "\n",
        "# Associate the indices in the text vector with each unique word\n",
        "print('\\nIndices for each unique word in embedded text vector: ')\n",
        "print(vectorizer.vocabulary_)"
      ],
      "metadata": {
        "colab": {
          "base_uri": "https://localhost:8080/"
        },
        "id": "ubkGJtQxihlB",
        "outputId": "9223eefc-6690-4a9d-f6a1-68228e1ad7d4"
      },
      "execution_count": null,
      "outputs": [
        {
          "output_type": "stream",
          "name": "stdout",
          "text": [
            "Array of unique words: \n",
            "['000' '10' '100' ... 'yourselves' 'yous' 'zoom']\n",
            "\n",
            "Bag-of-Words embedded text vector: \n",
            "[[0 0 0 ... 0 0 0]\n",
            " [2 1 0 ... 0 1 0]\n",
            " [0 1 0 ... 0 0 0]\n",
            " ...\n",
            " [0 0 0 ... 0 0 0]\n",
            " [0 0 0 ... 0 0 0]\n",
            " [0 0 0 ... 0 0 0]]\n",
            "\n",
            "Indices for each unique word in embedded text vector: \n",
            "{'hosts': 616, 'or': 909, 'cohosts': 279, 'are': 127, 'easily': 433, 'able': 20, 'to': 1358, 'identify': 627, 'participant': 938, 'joining': 710, 'meeting': 817, 'as': 133, 'internal': 679, 'their': 1335, 'organization': 912, 'external': 498, 'unverified': 1411, 'where': 1483, 'the': 1334, 'user': 1428, 'isn': 698, 'authenticated': 152, 'by': 210, 'webex': 1470, 'and': 89, 'therefore': 1341, 'can': 218, 'be': 170, 'verified': 1442, 'notification': 870, 'of': 884, 'waiting': 1459, 'in': 642, 'lobby': 763, 'is': 697, 'now': 875, 'more': 834, 'prominent': 1033, 'hidden': 602, 'list': 759, 'remove': 1113, 'from': 547, 'they': 1343, 'also': 80, 'select': 1187, 'an': 87, 'entire': 471, 'group': 579, 'admit': 59, 'those': 1348, 'participants': 939, 'host': 613, 'you': 1511, 'customize': 351, 'templates': 1328, 'use': 1426, 'send': 1193, 'following': 533, 'emails': 445, 'panelists': 935, 'attendees': 146, 'invitations': 689, 'reminders': 1110, 'thank': 1332, 'yous': 1514, 'cancellations': 220, 'choose': 252, 'whether': 1484, 'html': 621, 'plain': 969, 'text': 1330, 'for': 536, 'your': 1512, 'email': 444, 'format': 539, 'even': 476, 'save': 1159, 'template': 1327, 'library': 748, 'future': 555, 'schedule': 1165, 'but': 207, 'only': 895, 'enable': 450, 'two': 1393, 'additional': 45, 'webinars': 1475, 'with': 1496, 'up': 1412, '10': 1, '000': 0, 'disabled': 394, '25': 9, 'when': 1482, 'webinar': 1474, 'see': 1184, 'separate': 1196, 'tabs': 1314, 'making': 789, 'it': 701, 'easy': 434, 'copy': 330, 'content': 319, 'respective': 1130, 'audience': 148, 'this': 1347, 'feature': 506, 'includes': 645, 'administrator': 56, 'capabilities': 224, 'enabling': 453, 'virtual': 1450, 'background': 162, 'features': 507, 'at': 141, 'level': 745, 'customizing': 353, 'options': 908, 'default': 363, 'backgrounds': 163, 'uploaded': 1419, 'allow': 74, 'users': 1429, 'own': 926, 'images': 632, 'allowing': 76, 'guest': 581, 'cascading': 230, 'each': 429, 'site': 1231, 'control': 323, 'hub': 622, 'overriding': 925, 'configuration': 302, 'uploading': 1420, 'maximum': 810, 'approved': 122, 'flexibly': 525, 'configure': 303, 'various': 1437, 'scenarios': 1164, 'on': 891, 'different': 390, 'sites': 1232, 'services': 1201, 'such': 1295, 'meetings': 818, 'calling': 215, 'messaging': 822, 'app': 108, 'according': 29, 'part': 937, 'our': 920, 'drive': 417, 'provide': 1037, 'secure': 1182, 'we': 1466, 're': 1059, 'letting': 744, 'know': 722, 'about': 21, 'some': 1246, 'security': 1183, 'improvements': 640, 'that': 1333, 'experience': 492, 'today': 1359, 'anyone': 104, 'personal': 958, 'room': 1151, 'jump': 713, 'into': 684, 'right': 1149, 'away': 160, 'without': 1498, 'having': 592, 'wait': 1458, 'update': 1414, 'guests': 582, 'who': 1489, 'try': 1388, 'join': 708, 'automatically': 156, 'until': 1410, 'them': 1336, 'conjunction': 305, 'these': 1342, 'changes': 240, 'enhance': 465, 'management': 792, 'itself': 704, 'improved': 638, 've': 1439, 'notifications': 871, 'someone': 1247, 'joins': 711, 'so': 1244, 'noticeable': 869, 'if': 629, 'sharing': 1212, 'dynamic': 427, 'people': 951, 'removing': 1116, 'prompt': 1035, 'during': 423, 'flow': 529, 'any': 103, 'attendee': 145, 'hosted': 614, 'free': 545, 'online': 894, 'account': 30, 'holder': 610, 'wouldn': 1507, 'prompted': 1036, 'input': 666, 'unauthenticated': 1399, 'remembers': 1107, 'closed': 271, 'captioning': 227, 'selection': 1190, 'next': 861, 'event': 477, 'behavior': 176, 'replaces': 1120, 'preference': 1005, 'setting': 1205, 'captions': 228, 'removed': 1114, '42': 13, 'change': 238, 'applies': 116, 'have': 591, 'separated': 1197, 'assistant': 139, 'has': 590, 'customer': 347, 'availability': 157, 'government': 574, 'not': 867, 'tooltip': 1370, 'label': 724, 'name': 851, 'duplicated': 421, 'few': 512, 'controls': 326, 'redundant': 1087, 'tooltips': 1371, 'simultaneous': 1228, 'interpretation': 680, 'manage': 790, 'available': 158, 'languages': 730, 'responsible': 1134, 'managing': 794, 'preassign': 1002, 'interpreters': 682, 'add': 41, 'new': 860, 'language': 729, 'channels': 243, 'meet': 816, 'needs': 858, 'limitation': 753, 'turned': 1391, 'practice': 1000, 'sessions': 1203, 'started': 1268, 'will': 1493, 'addressed': 47, 'while': 1486, 'viewing': 1449, 'recordings': 1080, 'skip': 1235, 'ahead': 67, 'move': 838, 'backwards': 164, 'using': 1431, 'rewind': 1147, 'forward': 540, 'buttons': 209, 'help': 598, 'second': 1177, 'increments': 651, 'similar': 1223, 'desktop': 377, 'option': 906, 'noise': 863, 'choosing': 254, 'computer': 298, 'audio': 149, 'web': 1467, 'helping': 599, 'voice': 1454, 'sound': 1251, 'clear': 265, 'filtering': 519, 'out': 921, 'surroundings': 1305, 'sometimes': 1248, 'network': 859, 'firewall': 522, 'settings': 1206, 'may': 811, 'block': 185, 'access': 25, 'depending': 371, 'port': 989, 'off': 885, 'contact': 315, 'service': 1200, 'manager': 793, 'pop': 987, 'panels': 936, 'window': 1494, 'browser': 199, 'makes': 788, 'float': 526, 'multiple': 844, 'scale': 1162, 'closer': 272, 'look': 776, 'another': 99, 'monitor': 832, 'click': 266, 'icon': 625, 'panel': 933, 'its': 703, 'once': 892, 'floating': 527, 'back': 161, 'time': 1353, 'snaps': 1243, 'place': 967, 'close': 270, 'reopen': 1118, 'administrators': 57, 'provided': 1038, 'button': 208, 'all': 73, 'remote': 1111, 'outside': 923, 'company': 293, 'application': 113, 'blocked': 186, 'trying': 1389, 'initiate': 664, 'message': 820, 'instead': 672, 'applicable': 112, 'mobile': 827, 'ios': 694, 'windows': 1495, 'mac': 780, 'apps': 124, 'webhooks': 1473, 'great': 576, 'way': 1465, 'customers': 348, 'execute': 485, 'specific': 1259, 'business': 206, 'logic': 771, 'based': 168, 'status': 1274, 'received': 1073, 'providing': 1040, 'ability': 19, 'receive': 1072, 'webhook': 1472, 'transcripts': 1381, 'ready': 1066, 'helps': 600, 'satisfy': 1158, 'cases': 232, 'sending': 1194, 'inform': 661, 'transcription': 1380, 'readiness': 1065, 'animated': 91, 'starting': 1269, 'upload': 1418, 'materials': 805, 'microsoft': 824, 'powerpoint': 999, 'presentations': 1011, 'pdf': 948, 'word': 1500, 'documents': 404, 'jpg': 712, 'png': 979, 'files': 517, 'information': 662, 'page': 930, 'download': 414, 'material': 804, 'addition': 44, 'polls': 986, 'slido': 1238, 'start': 1267, 'polling': 985, 'engage': 461, 'pre': 1001, 'questions': 1052, 'create': 337, 'file': 516, 'atp': 142, 'quickly': 1054, 'previously': 1018, 'saved': 1160, 'supports': 1300, 'pip': 966, 'picture': 963, 'ipad': 695, 'support': 1297, 'shrinks': 1217, 'whole': 1490, 'small': 1240, 'rectangular': 1081, 'appears': 110, 'over': 924, 'home': 612, 'screen': 1170, 'other': 917, 'example': 481, 'browse': 198, 'watching': 1464, 'done': 411, 'positioned': 995, 'one': 893, 'corner': 331, 'vdi': 1438, 'extend': 496, 'video': 1446, 'ports': 992, '3x3': 12, '5x5': 15, 'grid': 578, 'view': 1448, 'mode': 829, 'registry': 1098, 'key': 718, 'value': 1434, 'hvd': 623, 'thin': 1344, 'client': 268, 'path': 946, 'hkey_local_machine': 608, 'software': 1245, 'policies': 980, 'ciscowebex': 260, 'webexvdiunlimitvideoportpolicy': 1471, 'type': 1394, 'dword': 425, 'registration': 1096, 'form': 538, 'registrant': 1094, 'number': 876, 'id': 626, 'approval': 120, 'rules': 1154, 'after': 64, 'registered': 1092, '50': 14, '100': 2, 'license': 749, 'plans': 970, 'accept': 24, 'than': 1331, 'current': 344, 'allows': 77, '20': 8, 'percent': 953, 'numbers': 877, '12': 6, 'registrations': 1097, 'remain': 1106, 'same': 1157, 'wants': 1461, 'embedded': 446, 'open': 896, 'find': 521, 'top': 1372, 'was': 1463, 'menu': 819, 'keep': 716, 'track': 1374, 'shared': 1211, 'timer': 1354, 'interact': 676, 'countdown': 334, 'team': 1325, 'collaboration': 282, 'activities': 37, 'things': 1345, 'stay': 1275, 'launch': 737, 'set': 1204, 'share': 1210, 'pause': 947, 'google': 573, 'workspace': 1505, 'toggle': 1361, 'between': 183, 'links': 758, 'directly': 392, 'used': 1427, 'chooses': 253, 'conferencing': 300, 'english': 464, 'supported': 1299, '13': 7, 'spoken': 1262, 'including': 646, 'existing': 488, 'chinese': 250, 'mandarin': 795, 'simplified': 1226, 'traditional': 1375, 'dutch': 424, 'french': 546, 'german': 560, 'hindi': 607, 'italian': 702, 'japanese': 706, 'korean': 723, 'polish': 982, 'portuguese': 993, 'spanish': 1254, 'real': 1067, 'translation': 1385, 'sku': 1236, 'translated': 1384, 'communicate': 290, 'effective': 440, 'inclusive': 647, 'accessible': 26, 'engaging': 463, 'across': 34, 'globe': 567, 'moving': 841, 'raise': 1055, 'hand': 585, 'reactions': 1062, 'bar': 167, 'easier': 432, 'faster': 505, 'self': 1191, 'turn': 1390, 'gives': 565, 'estate': 475, 'focus': 531, 'sync': 1310, 'exact': 480, 'layout': 738, 'stage': 1264, 'cohost': 278, 'adjusted': 51, 'size': 1233, 'then': 1338, 'selected': 1188, 'my': 850, 'synced': 1311, 'sizes': 1234, 'were': 1480, 'webcast': 1468, 'stops': 1282, 'continue': 320, 'displayed': 399, 'annotate': 92, 'presenter': 1012, 'enabled': 451, 'names': 852, 'private': 1022, 'scheduler': 1167, 'assigns': 138, 'anonymous': 98, 'display': 398, 'intended': 675, 'privacy': 1021, 'anonymity': 96, 'required': 1126, 'holding': 611, 'competing': 294, 'vendors': 1440, 'groups': 580, 'consultations': 314, 'request': 1123, 'beta': 181, 'limitations': 754, 'devices': 383, 'don': 410, 'anonymized': 97, 'device': 382, 'calendar': 212, 'tool': 1367, 'doesn': 406, 'invitee': 692, 'detail': 378, 'currently': 345, 'invitees': 693, 'case': 231, 'missed': 826, 'updates': 1416, 'came': 216, 'december': 358, 'owners': 929, 'filter': 518, 'events': 478, 'clicking': 267, 'sidebar': 1219, 'under': 1401, 'january': 705, 'added': 42, 'administration': 54, 'necessarily': 855, 'invite': 690, 'collaborators': 283, 'beforehand': 175, 'com': 286, 'profanity': 1029, 'been': 172, 'announced': 95, 'earlier': 430, 'cloud': 275, 'poll': 984, 'speaker': 1255, 'labels': 726, 'box': 193, 'further': 554, 'live': 761, 'transcript': 1379, 'readability': 1064, 'feed': 508, 'updated': 1415, 'lines': 756, 'final': 520, 'utterances': 1432, 'shown': 1215, 'font': 535, 'previous': 1017, 'push': 1044, 'script': 1172, 'excited': 483, 'introduce': 685, 'maximizes': 809, 'space': 1253, 'artificial': 132, 'intelligence': 674, 'dynamically': 428, 'crop': 340, 'videos': 1447, 'individual': 658, 'rather': 1057, 'll': 762, 'get': 561, 'better': 182, 'face': 500, 'feel': 510, 'connected': 306, 'regardless': 1090, 'how': 619, 'front': 548, 'camera': 217, 'give': 564, 'activity': 38, 'report': 1121, 'chat': 246, 'completed': 295, 'recorded': 1078, 'schedules': 1168, 'breakout': 194, 'preassigned': 1003, 'link': 757, 'session': 1202, '1000': 3, 'noises': 864, 'voices': 1455, 'picked': 962, 'microphone': 823, 'farther': 503, 'amplified': 86, 'like': 752, 'much': 843, 'optimize': 904, 'prioritize': 1020, 'speech': 1261, 'before': 174, 'doing': 407, 'drop': 418, 'down': 413, 'arrow': 130, 'smart': 1242, 'order': 910, 'clarity': 262, 'deaf': 357, 'hard': 589, 'hearing': 594, 'need': 856, 'labeling': 725, 'within': 1497, 'caption': 226, 'volume': 1457, 'balance': 165, 'shows': 1216, 'interpreter': 681, 'side': 1218, 'left': 742, 'hear': 593, 'higher': 605, 'slide': 1237, 'suppress': 1302, 'talkers': 1319, 'others': 918, 'selecting': 1189, 'prior': 1019, 'accessing': 27, 'section': 1180, 'removal': 1112, 'called': 214, 'make': 786, 'reassigning': 1070, 'owner': 928, 'deleting': 370, 'recording': 1079, 'compliance': 296, 'regulations': 1099, 'notify': 873, 'actions': 35, 'take': 1317, 'older': 890, 'retention': 1143, 'period': 955, 'moved': 839, 'trash': 1386, 'reassigns': 1071, 'moves': 840, 'deletes': 369, 'restores': 1136, 'possible': 996, 'accurately': 32, 'reflect': 1088, 'mute': 847, 'premises': 1009, 'muted': 848, 'unmuted': 1409, 'themselves': 1337, 'wouldnt': 1508, 'show': 1214, 'requests': 1124, 'unmute': 1408, 'there': 1339, 'visual': 1452, 'indications': 656, 'however': 620, 'alway': 82, 'verbally': 1441, 'ask': 134, 'turns': 1392, 'appropriate': 119, 'messages': 821, 'rendered': 1117, 'setup': 1207, 'moderated': 831, 'record': 1077, 'interface': 678, 'dtmf': 419, 'direct': 391, 'indicating': 655, 'lock': 766, 'lower': 778, 'first': 523, 'tap': 1321, 'tapping': 1322, 'again': 65, 'edge': 435, 'locked': 767, 'indicate': 654, 'unlocked': 1407, 'else': 443, 'raises': 1056, 'hands': 586, 'lowered': 779, 'automatic': 155, 'cisco': 259, 'appear': 109, 'playback': 974, 'search': 1175, 'verify': 1443, 'what': 1481, 'said': 1156, 'transcribing': 1378, 'made': 783, 'interacting': 677, 'tools': 1369, 'fade': 502, 'dedicated': 362, 'toolbar': 1368, 'above': 22, 'zoom': 1515, 'annotation': 93, 'blocking': 187, 'being': 178, 'introducing': 687, 'scan': 1163, 'qr': 1047, 'code': 277, 'disrupting': 400, 'disconnecting': 396, 'enter': 469, 'url': 1422, 'address': 46, 'forwarded': 541, 'landing': 728, 'ends': 459, 'survey': 1306, 'sponsors': 1263, 'provides': 1039, 'opportunity': 901, 'engagement': 462, 'going': 571, 'ended': 456, 'apply': 117, 'reasons': 1069, 'domains': 409, 'here': 601, 'work': 1502, 'ensure': 468, 'otherwise': 919, 'error': 473, 'won': 1499, 'sure': 1303, 'urls': 1423, 'containing': 317, 'due': 420, 'considerations': 310, 'domain': 408, 'types': 1396, 'consideration': 309, 'qualtrics': 1050, 'surveymonkey': 1307, 'typeform': 1395, 'go': 568, 'common': 289, 'considered': 311, '3d': 11, 'optimization': 903, 'upon': 1421, 'success': 1294, 'uses': 1430, 'bandwidth': 166, 'reduce': 1085, 'color': 284, 'artifacts': 131, 'high': 604, 'fidelity': 514, 'models': 830, 'increased': 649, 'quality': 1049, 'aid': 69, 'aided': 70, 'design': 374, 'medical': 815, 'imaging': 633, 'reduced': 1086, 'normal': 866, 'levels': 746, 'dialog': 385, 'optimizes': 905, 'applications': 114, 'would': 1506, 'mask': 801, 'areas': 128, 'receiving': 1075, 'sees': 1186, 'masked': 802, 'tab': 1313, 'location': 764, 'relevant': 1105, 'preferences': 1006, 'defaults': 364, 'updating': 1417, 'opened': 898, 'unify': 1404, 'fragmented': 544, 'unified': 1403, 'align': 72, 'offers': 887, 'could': 332, 'entered': 470, 'functional': 551, 'coming': 288, 'march': 799, 'april': 125, 'incoming': 648, 'responses': 1133, 'seamlessly': 1174, 'adding': 43, 'respondents': 1132, 'attached': 143, 'answers': 102, 'decide': 359, 'want': 1460, 'submit': 1291, 'style': 1288, 'cover': 335, 'particularly': 942, 'smaller': 1241, 'styles': 1289, 'rest': 1135, 'portfolio': 991, 'sx': 1309, 'mx': 849, 'dx': 426, 'series': 1199, 'well': 1479, 'streaming': 1284, 'org': 911, 'chrome': 256, 'token': 1363, 'extension': 497, 'both': 191, 'reason': 1068, 'delete': 368, 'leaves': 741, 'should': 1213, 'scheduled': 1166, 'per': 952, 'chats': 247, 'install': 668, 'bot': 190, 'conversation': 327, 'qualities': 1048, 'api': 106, 'pull': 1043, 'detailed': 379, 'troubleshooting': 1387, 'recently': 1076, 'occurred': 882, 'occurring': 883, 'powerful': 998, 'supportability': 1298, 'integration': 673, 'four': 543, 'obtained': 881, 'which': 1485, 'enables': 452, 'ai': 68, 'person': 957, 'cropping': 341, 'board': 189, 'desk': 376, 'cc': 235, 'fewer': 513, 'announce': 94, 'progressive': 1032, 'pwa': 1046, 'chromeos': 258, 'play': 973, 'store': 1283, 'chromebook': 257, 'through': 1350, 'similarly': 1224, 'flexibility': 524, 'goal': 569, 'participate': 940, 'effectively': 441, 'giving': 566, 'latest': 736, 'optimal': 902, 'organizations': 913, 'licenses': 750, 'below': 180, 'large': 731, 'reminder': 1109, 'sent': 1195, 'least': 739, 'hours': 617, 'register': 1091, 'upcoming': 1413, 'title': 1357, 'registering': 1093, 'password': 944, 'since': 1229, 'entry': 472, 'exit': 490, 'beep': 173, 'phone': 960, 'website': 1476, 'undergoing': 1402, 'ui': 1398, 'enhancements': 467, 'scheduling': 1169, 'related': 1102, 'passwords': 945, 'most': 836, 'privileges': 1023, 'agenda': 66, 'main': 785, 'basic': 169, 'advanced': 62, 'music': 845, 'fullband': 550, 'require': 1125, 'encoded': 454, 'operates': 900, 'superwideband': 1296, 'clients': 269, 'takes': 1318, 'pstn': 1042, 'placed': 968, 'immediately': 635, 'asked': 135, 'later': 735, 'do': 403, 'pressing': 1014, 'return': 1145, 'rejoin': 1101, 'closes': 273, 'warned': 1462, 'assigned': 137, 'cannot': 222, 'must': 846, 'version': 1444, 'aren': 129, 'listed': 760, 'tones': 1365, 'inside': 667, 'starts': 1270, 'image': 631, 'come': 287, 'emoji': 447, 'star': 1266, 'restrictions': 1140, 'applied': 115, 'policy': 981, 'permitted': 956, 'too': 1366, 'restriction': 1139, 'toggles': 1362, 'prevent': 1015, 'byod': 211, 'leverages': 747, 'keys': 720, 'tokens': 1364, 'detected': 381, 'held': 597, 'already': 79, 'introduced': 686, 'sign': 1220, 'claimed': 261, 'disable': 393, 'broadcast': 197, 'rooms': 1152, 'notified': 872, 'allowed': 75, 'classic': 263, '81': 18, 'thumbnail': 1351, 'preferred': 1007, 'actual': 39, 'limited': 755, 'resolution': 1129, 'brings': 196, 'simple': 1225, 'registrants': 1095, 'contributors': 322, 'third': 1346, 'party': 943, 'just': 715, 'full': 549, 'good': 572, 'faced': 501, 'issues': 700, 'details': 380, 'dialogs': 386, 'meaningful': 812, 'description': 373, 'run': 1155, 'component': 297, 'contains': 318, 'surrounding': 1304, 'problem': 1025, 'issue': 699, 'logging': 770, 'tac': 1315, 'bigger': 184, 'scroll': 1173, 'indicator': 657, 'center': 236, 'login': 772, 'navigate': 853, 'capability': 225, 'requires': 1127, 'mid': 825, 'june': 714, 'connecting': 307, 'tell': 1326, 'platform': 971, 'iphone': 696, 'apple': 111, 'carplay': 229, 'dashboard': 354, '11': 5, 'task': 1323, 'taskbar': 1324, 'hover': 618, 'presenters': 1013, 'process': 1026, 'needed': 857, 'consolidated': 313, 'statistics': 1273, 'found': 542, 'edit': 436, 'progress': 1031, 'read': 1063, 'rtl': 1153, 'arabic': 126, 'hebrew': 596, 'attendance': 144, 'contain': 316, 'column': 285, 'android': 90, 'mp4': 842, 'gif': 563, 'innovated': 665, 'legacy': 743, 'audit': 150, 'covers': 336, 'managed': 791, 'generated': 559, 'post': 997, 'highlights': 606, 'single': 1230, 'voip': 1456, 'particular': 941, 'whom': 1491, 'dial': 384, 'numeric': 878, 'mandatory': 796, 'enforced': 460, 'configurable': 301, 'avoid': 159, 'times': 1355, 'except': 482, 'fields': 515, 'exclude': 484, 'saving': 1161, 'adjust': 50, 'adjusts': 52, 'match': 803, 'especially': 474, 'classrooms': 264, 'certain': 237, 'present': 1010, 'define': 365, 'questionnaire': 1051, 'submitted': 1292, 'portal': 990, 'improving': 641, 'eye': 499, 'whiteboards': 1488, 'stopped': 1281, 'whiteboard': 1487, 'included': 644, 'yet': 1510, 'custom': 346, 'simply': 1227, 'states': 1271, 'assign': 136, 'speaking': 1257, 'standard': 1265, 'rich': 1148, 'media': 814, 'player': 975, 'training': 1376, 'obsolete': 880, 'invited': 691, 'joined': 709, 'mail': 784, 'cookie': 329, 'pending': 950, 'confusion': 304, 'double': 412, 'submission': 1290, 'promotion': 1034, 'dialogue': 387, 'hide': 603, 'exists': 489, 'becomes': 171, 'active': 36, 'bubble': 201, 'stop': 1280, 'talking': 1320, 'disappears': 395, 'switch': 1308, 'keypad': 719, 'call': 213, 'paired': 932, 'navigating': 854, 'log': 768, 'yourselves': 1513, 'instances': 671, 'refresh': 1089, 'forces': 537, 'instance': 670, 'signed': 1221, 'independently': 653, 'keeping': 717, 'answer': 100, 'customizable': 349, 'officers': 888, 'retrieve': 1144, 'admin': 53, 'endpoint': 458, 'strengthen': 1285, 'answered': 101, 'chosen': 255, 'apis': 107, 'enhanced': 466, 'created': 338, 'community': 292, 'gcc': 556, 'outlook': 922, 'either': 442, 'authorize': 153, 'consent': 308, 'chapters': 245, 'longer': 775, 'duration': 422, 'timestamp': 1356, 'chapter': 244, 'along': 78, 'invitation': 688, 'sources': 1252, 'locations': 765, 'unique': 1405, 'platforms': 972, 'many': 798, 'china': 249, 'data': 355, 'reorder': 1119, 'drag': 415, 'position': 994, 'infinite': 660, 'canvas': 223, 'collaborate': 280, 'together': 1360, 'several': 1208, 'handy': 587, 'pen': 949, 'shapes': 1209, 'sticky': 1278, 'notes': 868, 'collaborating': 281, 'profile': 1030, 'pictures': 964, 'strokes': 1287, 'end': 455, 'prevents': 1016, 'accidental': 28, 'ending': 457, 'csm': 342, 'provisioning': 1041, 'larger': 732, 'ratio': 1058, 'approximately': 123, '70': 16, '30': 10, 'depends': 372, 'screens': 1171, 'speakers': 1256, 'works': 1504, 'ad': 40, 'hoc': 609, 'controlling': 325, 'fly': 530, 'channel': 242, 'everyone': 479, 'greater': 577, 'clustered': 276, 'organized': 914, 'categories': 233, 'labs': 727, 'accounts': 31, 'rolling': 1150, 'weeks': 1478, 'non': 865, 'expandable': 491, 'sections': 1181, 'general': 557, 'bring': 195, 'adds': 48, 'decides': 360, 'visible': 1451, 'signup': 1222, 'approvals': 121, 'auto': 154, 'designed': 375, 'life': 751, 'increasing': 650, 'no': 862, 'admitting': 61, 'supposed': 1301, 'anyways': 105, 'pin': 965, 'systems': 1312, 'remind': 1108, 'advantage': 63, 'amazing': 85, 'usability': 1424, 'improvement': 639, 'admits': 60, 'industry': 659, 'computers': 299, 'phones': 961, 'audible': 147, 'plays': 976, 'seconds': 1179, 'empowers': 449, 'delegates': 367, 'typically': 1397, 'executive': 486, 'reports': 1122, 'thereby': 1340, 'burden': 205, 'executives': 487, 'manually': 797, 'analysis': 88, 'processing': 1027, 'delegate': 366, 'gets': 562, 'am': 84, 'marked': 800, 'moreover': 835, 'subscribed': 1293, 'original': 916, 'floor': 528, 'speaks': 1258, 'hears': 595, '80': 17, 'does': 405, 'three': 1349, 'cancellation': 219, 'absentee': 23, 'follow': 532, 'didn': 389, 'optional': 907, 'variables': 1435, 'customization': 350, 'logos': 774, 'leave': 740, 'static': 1272, 'sortable': 1250, 'last': 734, 'changing': 241, 'pages': 931, 'consistent': 312, 'iframes': 630, 'removes': 1115, 'meanwhile': 813, 'administrative': 55, 'audited': 151, 'revert': 1146, 'old': 889, 'phase': 959, 'functions': 553, 'relating': 1103, 'creation': 339, 'adminstration': 58, 'loss': 777, 'functionality': 552, 'happy': 588, 'november': 874, 'customized': 352, 'logo': 773, 'step': 1276, 'impressed': 637, 'polished': 983, 'variety': 1436, 'couldn': 333, 'maximized': 808, 'max': 807, 'browsers': 200, 'terms': 1329, 'total': 1373, 'emojis': 448, 'tag': 1316, 'generally': 558, 'writing': 1509, 'mouse': 837, 'built': 203, 'discover': 397, 'lasso': 733, 'objects': 879, 'seen': 1185, 'panelist': 934, 'usage': 1425, 'always': 83, 'edited': 437, 'prefer': 1004, 'unless': 1406, 'slow': 1239, 'fast': 504, 'choice': 251, 'prefers': 1008, 'unavailable': 1400, 'steps': 1277, 'dictionary': 388, 'specify': 1260, 'vocabulary': 1453, 'words': 1501, 'uttered': 1433, 'transcribed': 1377, 'keywords': 721, 'include': 643, 'acronyms': 33, 'jargon': 707, 'product': 1028, 'categorizes': 234, 'separating': 1198, 'whose': 1492, 'identity': 628, 'belong': 179, 'hosting': 615, 'independent': 652, 'distinguishing': 401, 'applying': 118, 'stringent': 1286, 'perform': 954, 'bulk': 204, 'csv': 343, 'export': 495, 'import': 636, 'declined': 361, 'changed': 239, 'receives': 1074, 'informing': 663, 'cancelled': 221, 'reaching': 1061, 'expiry': 494, 'soon': 1249, 'expiring': 493, 'weekly': 1477, 'monthly': 833, 'controlled': 324, 'restrict': 1137, 'adhere': 49, 'via': 1445, 'pushing': 1045, 'owned': 927, 'matter': 806, 'installation': 669, 'restricted': 1138, 'machine': 781, 'restrictive': 1141, 'machines': 782, 'transfer': 1382, 'transfers': 1383, 'secondary': 1178, 'granular': 575, 'communication': 291, 'proactively': 1024, 'requiring': 1128, 'reach': 1060, 'opening': 899, 'closing': 274, 'distracting': 402, 'dragged': 416, 'behind': 177, 'openable': 897, 'editing': 438, 'edits': 439, 'async': 140, 'follows': 534, 'had': 584, 'continues': 321, 'conversely': 328, 'redesigned': 1082, 'interstitial': 683, 'plist': 977, 'modal': 828, 'bottom': 192, 'earpiece': 431, 'bluetooth': 188, 'logged': 769, 'pmr': 978, 'imessage': 634, 'festive': 511, 'cheer': 248, 'seasonal': 1176, 'makeover': 787, 'feedback': 509, 'release': 1104, 'builds': 202, 'webcasts': 1469, 'still': 1279, 'altogether': 81, '1080p': 4, 'worked': 1503, 'redirected': 1083, 'goes': 570, 'populated': 988, 'rejected': 1100, 'respond': 1131, 'hyperlinked': 624, 'redirects': 1084, 'quick': 1053, 'guide': 583, 'aids': 71, 'offer': 886, 'selfview': 1192, 'restricts': 1142, 'orgs': 915, 'till': 1352, 'deactivated': 356}\n"
          ]
        }
      ]
    },
    {
      "cell_type": "code",
      "source": [
        "# X has shape (168, 1516)\n",
        "# because we have 281 examples of features (i.e. 168 rows in the CSV file) \n",
        "# and we have 1456 unique words in our vocabulary (i.e. 1456 unique words in the CSV's feature descriptions)\n",
        "X = bag.toarray()\n",
        "X.shape"
      ],
      "metadata": {
        "colab": {
          "base_uri": "https://localhost:8080/"
        },
        "id": "3LTN7KHgirVK",
        "outputId": "b703d8f2-87de-4505-a56c-0edd547590bf"
      },
      "execution_count": null,
      "outputs": [
        {
          "output_type": "execute_result",
          "data": {
            "text/plain": [
              "(168, 1516)"
            ]
          },
          "metadata": {},
          "execution_count": 10
        }
      ]
    },
    {
      "cell_type": "code",
      "source": [
        "# y has shape (168)\n",
        "# because there is a class label (0/1) for each of our 168 feature descriptions\n",
        "y = data['Label']\n",
        "y.shape"
      ],
      "metadata": {
        "colab": {
          "base_uri": "https://localhost:8080/"
        },
        "id": "1sjP5yEAjNMj",
        "outputId": "a7c66791-c772-4abd-f5c3-be60883b609c"
      },
      "execution_count": null,
      "outputs": [
        {
          "output_type": "execute_result",
          "data": {
            "text/plain": [
              "(168,)"
            ]
          },
          "metadata": {},
          "execution_count": 11
        }
      ]
    },
    {
      "cell_type": "markdown",
      "source": [
        "# Train Test Split\n"
      ],
      "metadata": {
        "id": "N1Ym9ROujgcx"
      }
    },
    {
      "cell_type": "code",
      "source": [],
      "metadata": {
        "id": "VcuNSIwWjlHS"
      },
      "execution_count": null,
      "outputs": []
    },
    {
      "cell_type": "code",
      "source": [
        "#Test Train Split\n",
        "from sklearn.model_selection import train_test_split\n",
        "\"\"\"\n",
        "  Splits Data into two separate sets (training set, testing set)\n",
        "\n",
        "  Utilizes Sklearn's test train split function to split arrays\n",
        "  We are going preliminarily with a 30& split (0,30) test size \n",
        "  Input: X & y array (features & labels)  \n",
        "  Returns:\n",
        "    4 arrays with training data and test data (x & y)\n",
        "\"\"\"\n",
        "# X and Y already Built\n",
        "X_train, X_test, y_train, y_test = train_test_split(X,y,\n",
        "    test_size=0.28, train_size=0.72, random_state=42)\n",
        "print(X_train.shape,X_test.shape, y_train.shape, y_test.shape)\n",
        "print(y_test)\n",
        "# Training and testing sizes already here"
      ],
      "metadata": {
        "colab": {
          "base_uri": "https://localhost:8080/"
        },
        "id": "3S_wZQJWR4mQ",
        "outputId": "5b811eea-5961-46f4-df89-03e7795db852"
      },
      "execution_count": null,
      "outputs": [
        {
          "output_type": "stream",
          "name": "stdout",
          "text": [
            "(120, 1516) (48, 1516) (120,) (48,)\n",
            "137    1\n",
            "30     0\n",
            "119    1\n",
            "29     0\n",
            "142    1\n",
            "161    1\n",
            "164    1\n",
            "51     0\n",
            "105    1\n",
            "60     0\n",
            "15     0\n",
            "156    1\n",
            "133    1\n",
            "45     0\n",
            "68     0\n",
            "85     1\n",
            "24     0\n",
            "109    1\n",
            "75     0\n",
            "108    1\n",
            "19     0\n",
            "16     0\n",
            "31     0\n",
            "18     0\n",
            "12     0\n",
            "9      0\n",
            "82     0\n",
            "98     1\n",
            "76     0\n",
            "55     0\n",
            "42     0\n",
            "56     0\n",
            "148    1\n",
            "111    1\n",
            "69     0\n",
            "136    1\n",
            "2      0\n",
            "93     1\n",
            "134    1\n",
            "152    1\n",
            "90     1\n",
            "114    1\n",
            "26     0\n",
            "144    1\n",
            "135    1\n",
            "97     1\n",
            "65     0\n",
            "36     0\n",
            "Name: Label, dtype: int64\n"
          ]
        }
      ]
    },
    {
      "cell_type": "markdown",
      "source": [
        "#Training the knn model"
      ],
      "metadata": {
        "id": "mKZ9IfFNj4TU"
      }
    },
    {
      "cell_type": "code",
      "source": [
        "# Import necessary modules\n",
        "from sklearn.neighbors import KNeighborsClassifier\n",
        "\n",
        "knn = KNeighborsClassifier(n_neighbors=4)\n",
        "  \n",
        "knn.fit(X_train, y_train)\n",
        "  \n",
        "# Predict on dataset which model has not seen before\n",
        "testResults = knn.predict(X_test)\n",
        "print(len(testResults))\n",
        "print(testResults)"
      ],
      "metadata": {
        "colab": {
          "base_uri": "https://localhost:8080/"
        },
        "id": "ucKnu3Qxj7kS",
        "outputId": "0c37e048-853c-4565-8b8d-2a80cce30f07"
      },
      "execution_count": null,
      "outputs": [
        {
          "output_type": "stream",
          "name": "stdout",
          "text": [
            "48\n",
            "[0 0 0 0 1 0 1 0 1 0 0 1 0 0 0 0 0 0 0 0 0 0 0 0 0 0 0 1 0 0 0 0 0 0 1 1 1\n",
            " 0 0 0 0 0 1 0 0 0 0 0]\n"
          ]
        }
      ]
    },
    {
      "cell_type": "markdown",
      "source": [
        "# Checking for accuracy by iterating over different k values\n"
      ],
      "metadata": {
        "id": "wP5N1mJ3kPwh"
      }
    },
    {
      "cell_type": "code",
      "source": [
        "#We will now iterate over different values of k to check for best accuracy\n",
        "\n",
        "# Import necessary modules\n",
        "from sklearn.neighbors import KNeighborsClassifier\n",
        "from sklearn.model_selection import train_test_split\n",
        "from sklearn.datasets import load_iris\n",
        "import numpy as np\n",
        "import matplotlib.pyplot as plt\n",
        "\n",
        "\n",
        "neighbors = np.arange(1, 9)\n",
        "train_accuracy = np.empty(len(neighbors))\n",
        "test_accuracy = np.empty(len(neighbors))\n",
        "  \n",
        "# Loop over K values\n",
        "for i, k in enumerate(neighbors):\n",
        "    knn = KNeighborsClassifier(n_neighbors=k)\n",
        "    knn.fit(X_train, y_train)\n",
        "      \n",
        "    # Compute training and test data accuracy\n",
        "    train_accuracy[i] = knn.score(X_train, y_train)\n",
        "    test_accuracy[i] = knn.score(X_test, y_test)\n",
        "  \n",
        "# Generate plot\n",
        "plt.plot(neighbors, test_accuracy, label = 'Testing dataset Accuracy')\n",
        "plt.plot(neighbors, train_accuracy, label = 'Training dataset Accuracy')\n",
        "  \n",
        "plt.legend()\n",
        "plt.xlabel('n_neighbors')\n",
        "plt.ylabel('Accuracy')\n",
        "plt.show()"
      ],
      "metadata": {
        "colab": {
          "base_uri": "https://localhost:8080/",
          "height": 280
        },
        "id": "Amr_YDbgkY23",
        "outputId": "2f5a1ced-36f6-45b2-be37-c5da5a10c638"
      },
      "execution_count": null,
      "outputs": [
        {
          "output_type": "display_data",
          "data": {
            "text/plain": [
              "<Figure size 432x288 with 1 Axes>"
            ],
            "image/png": "[encoded data removed]"
          },
          "metadata": {
            "needs_background": "light"
          }
        }
      ]
    },
    {
      "cell_type": "code",
      "source": [
        "#The above plot shows that a k value of 3, followed by 5 works best \n",
        "# for the model without overfitting "
      ],
      "metadata": {
        "id": "gAriJW1jkfCZ"
      },
      "execution_count": null,
      "outputs": []
    },
    {
      "cell_type": "code",
      "source": [
        "# Predicting results using Test data set\n",
        "pred = knn.predict(X_test)\n",
        "from sklearn.metrics import accuracy_score\n",
        "accuracy_score(pred,y_test)"
      ],
      "metadata": {
        "colab": {
          "base_uri": "https://localhost:8080/"
        },
        "id": "Wm2FNRHYnmh4",
        "outputId": "bae3cc5c-9587-408e-93b7-8b95a2df2065"
      },
      "execution_count": null,
      "outputs": [
        {
          "output_type": "execute_result",
          "data": {
            "text/plain": [
              "0.6041666666666666"
            ]
          },
          "metadata": {},
          "execution_count": 15
        }
      ]
    },
    {
      "cell_type": "code",
      "source": [
        "#A 72-28 test train split gives us a measure of highest acccuracy with a \n",
        "# k neighbor value of 4 which seems like a reasonable inference.\n"
      ],
      "metadata": {
        "id": "o4MiQpqnnq2T"
      },
      "execution_count": null,
      "outputs": []
    },
    {
      "cell_type": "code",
      "source": [],
      "metadata": {
        "id": "vf0d3LGGn5b1"
      },
      "execution_count": null,
      "outputs": []
    }
  ]
}